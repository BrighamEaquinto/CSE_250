{
 "cells": [
  {
   "cell_type": "markdown",
   "metadata": {},
   "source": [
    "# Project 5: The war with Star Wars"
   ]
  },
  {
   "cell_type": "code",
   "execution_count": null,
   "metadata": {},
   "outputs": [],
   "source": [
    "# Set up\n",
    "\n",
    "# libraries\n",
    "import pandas as pd\n",
    "import altair as alt\n",
    "import numpy as np"
   ]
  },
  {
   "cell_type": "code",
   "execution_count": null,
   "metadata": {},
   "outputs": [],
   "source": [
    "url = 'https://github.com/fivethirtyeight/data/raw/master/star-wars-survey/StarWars.csv'\n",
    "\n",
    "sw_cols = pd.read_csv(url, encoding = \"ISO-8859-1\", header = None, nrows = 2)\n",
    "sw_data = pd.read_csv(url, encoding = \"ISO-8859-1\", header = None, skiprows = 2) "
   ]
  },
  {
   "cell_type": "markdown",
   "metadata": {},
   "source": [
    "### Grand Question 1\n",
    "**Shorten the column names and clean them up for easier use with pandas.**"
   ]
  },
  {
   "cell_type": "code",
   "execution_count": null,
   "metadata": {},
   "outputs": [],
   "source": [
    "bob = (sw_cols\n",
    "       .iloc[0,:]\n",
    "       .replace(\"Have you seen any of the 6 films in the Star Wars franchise?\", \"seen_any\")\n",
    "       .replace(\"Do you consider yourself to be a fan of the Star Wars film franchise?\", \"is_fan_star_wars\")\n",
    "       .replace(\"Which of the following Star Wars films have you seen? Please select all that apply.\", \"seen_\")\n",
    "       .replace(\"Please rank the Star Wars films in order of preference with 1 being your favorite film in the franchise and 6 being your least favorite film.\", \"film_rank\")\n",
    "       .replace(\"Please state whether you view the following characters favorably, unfavorably, or are unfamiliar with him/her.\", \"favorable_character\")\n",
    "       .replace(\"Which character shot first?\", \"shot_first\")\n",
    "       .replace(\"Are you familiar with the Expanded Universe?\", \"familiar_expanded_universe\")\n",
    "       .str.lower()\n",
    "       .str.replace(\" \", \"_\")\n",
    "       .ffill()\n",
    ") \n",
    "# bob"
   ]
  },
  {
   "cell_type": "code",
   "execution_count": 13,
   "metadata": {},
   "outputs": [],
   "source": [
    "mary = (sw_cols\n",
    "        .iloc[1,:]\n",
    "        .replace(\"Response\", \"\")\n",
    "        .str.replace(\"Star Wars: Episode\", \"\")\n",
    "        .str.lower()\n",
    "        .str.replace(\" \", \"_\")  #partial match, not full match\n",
    "        .fillna(\"\") #replace function specifically for NA values\n",
    ")\n",
    "# mary"
   ]
  },
  {
   "cell_type": "code",
   "execution_count": 14,
   "metadata": {},
   "outputs": [],
   "source": [
    "new_column_names = bob + mary\n",
    "# new_column_names"
   ]
  },
  {
   "cell_type": "code",
   "execution_count": 25,
   "metadata": {},
   "outputs": [
    {
     "data": {
      "text/plain": [
       "8912"
      ]
     },
     "execution_count": 25,
     "metadata": {},
     "output_type": "execute_result"
    }
   ],
   "source": [
    "sw_data.columns = new_column_names\n",
    "\n",
    "# sw_data.head()\n",
    "8912\n",
    "# now we have our data set"
   ]
  },
  {
   "cell_type": "markdown",
   "metadata": {},
   "source": [
    "### Grand Question 2\n",
    "**Please validate that the data provided on GitHub lines up with the article by recreating 2 of their visuals and calculating 2 summaries that they report in the article.**"
   ]
  },
  {
   "cell_type": "code",
   "execution_count": null,
   "metadata": {},
   "outputs": [],
   "source": [
    "# First recreated visual"
   ]
  },
  {
   "cell_type": "code",
   "execution_count": 19,
   "metadata": {},
   "outputs": [
    {
     "data": {
      "text/html": [
       "<div>\n",
       "<style scoped>\n",
       "    .dataframe tbody tr th:only-of-type {\n",
       "        vertical-align: middle;\n",
       "    }\n",
       "\n",
       "    .dataframe tbody tr th {\n",
       "        vertical-align: top;\n",
       "    }\n",
       "\n",
       "    .dataframe thead th {\n",
       "        text-align: right;\n",
       "    }\n",
       "</style>\n",
       "<table border=\"1\" class=\"dataframe\">\n",
       "  <thead>\n",
       "    <tr style=\"text-align: right;\">\n",
       "      <th></th>\n",
       "      <th>index</th>\n",
       "      <th>shot_first</th>\n",
       "      <th>percent</th>\n",
       "    </tr>\n",
       "  </thead>\n",
       "  <tbody>\n",
       "    <tr>\n",
       "      <th>0</th>\n",
       "      <td>Han</td>\n",
       "      <td>0.392512</td>\n",
       "      <td>39.0</td>\n",
       "    </tr>\n",
       "    <tr>\n",
       "      <th>1</th>\n",
       "      <td>I don't understand this question</td>\n",
       "      <td>0.369565</td>\n",
       "      <td>37.0</td>\n",
       "    </tr>\n",
       "    <tr>\n",
       "      <th>2</th>\n",
       "      <td>Greedo</td>\n",
       "      <td>0.237923</td>\n",
       "      <td>24.0</td>\n",
       "    </tr>\n",
       "  </tbody>\n",
       "</table>\n",
       "</div>"
      ],
      "text/plain": [
       "                              index  shot_first  percent\n",
       "0                               Han    0.392512     39.0\n",
       "1  I don't understand this question    0.369565     37.0\n",
       "2                            Greedo    0.237923     24.0"
      ]
     },
     "execution_count": 19,
     "metadata": {},
     "output_type": "execute_result"
    }
   ],
   "source": [
    "shot = (sw_data['shot_first']\n",
    "        .dropna()\n",
    "        .value_counts(normalize = True)\n",
    "        .reset_index()\n",
    "        )\n",
    "\n",
    "shot[\"percent\"] = round(shot['shot_first']*100, 0) \n",
    "\n",
    "shot"
   ]
  },
  {
   "cell_type": "code",
   "execution_count": 20,
   "metadata": {},
   "outputs": [],
   "source": [
    "part1 = (alt.Chart(shot)\n",
    "            .mark_bar()\n",
    "            .encode(\n",
    "                x = alt.X('shot_first', \n",
    "                          axis = None), \n",
    "                y = alt.Y('index', \n",
    "                          sort = [\"Han\", \"Greedo\", \"I don't understand this question\"], \n",
    "                          axis = None)\n",
    "    )\n",
    ")\n",
    "# part1"
   ]
  },
  {
   "cell_type": "code",
   "execution_count": 21,
   "metadata": {},
   "outputs": [],
   "source": [
    "part2 = (alt.Chart(shot)\n",
    "            .mark_text(\n",
    "                align = 'left', baseline = 'middle', dx = 3\n",
    "                )\n",
    "            .encode(\n",
    "                x = 'shot_first', \n",
    "                y = alt.Y('index', \n",
    "                        sort = [\"Han\", \"Greedo\", \"I don't understand this question\"]), \n",
    "                        text = \"percent\")\n",
    "        )\n",
    "# part2"
   ]
  },
  {
   "cell_type": "code",
   "execution_count": 22,
   "metadata": {},
   "outputs": [
    {
     "data": {
      "text/html": [
       "\n",
       "<div id=\"altair-viz-a17c0f4abfa34dbb876bb39f68c18dfe\"></div>\n",
       "<script type=\"text/javascript\">\n",
       "  (function(spec, embedOpt){\n",
       "    let outputDiv = document.currentScript.previousElementSibling;\n",
       "    if (outputDiv.id !== \"altair-viz-a17c0f4abfa34dbb876bb39f68c18dfe\") {\n",
       "      outputDiv = document.getElementById(\"altair-viz-a17c0f4abfa34dbb876bb39f68c18dfe\");\n",
       "    }\n",
       "    const paths = {\n",
       "      \"vega\": \"https://cdn.jsdelivr.net/npm//vega@5?noext\",\n",
       "      \"vega-lib\": \"https://cdn.jsdelivr.net/npm//vega-lib?noext\",\n",
       "      \"vega-lite\": \"https://cdn.jsdelivr.net/npm//vega-lite@4.8.1?noext\",\n",
       "      \"vega-embed\": \"https://cdn.jsdelivr.net/npm//vega-embed@6?noext\",\n",
       "    };\n",
       "\n",
       "    function loadScript(lib) {\n",
       "      return new Promise(function(resolve, reject) {\n",
       "        var s = document.createElement('script');\n",
       "        s.src = paths[lib];\n",
       "        s.async = true;\n",
       "        s.onload = () => resolve(paths[lib]);\n",
       "        s.onerror = () => reject(`Error loading script: ${paths[lib]}`);\n",
       "        document.getElementsByTagName(\"head\")[0].appendChild(s);\n",
       "      });\n",
       "    }\n",
       "\n",
       "    function showError(err) {\n",
       "      outputDiv.innerHTML = `<div class=\"error\" style=\"color:red;\">${err}</div>`;\n",
       "      throw err;\n",
       "    }\n",
       "\n",
       "    function displayChart(vegaEmbed) {\n",
       "      vegaEmbed(outputDiv, spec, embedOpt)\n",
       "        .catch(err => showError(`Javascript Error: ${err.message}<br>This usually means there's a typo in your chart specification. See the javascript console for the full traceback.`));\n",
       "    }\n",
       "\n",
       "    if(typeof define === \"function\" && define.amd) {\n",
       "      requirejs.config({paths});\n",
       "      require([\"vega-embed\"], displayChart, err => showError(`Error loading script: ${err.message}`));\n",
       "    } else if (typeof vegaEmbed === \"function\") {\n",
       "      displayChart(vegaEmbed);\n",
       "    } else {\n",
       "      loadScript(\"vega\")\n",
       "        .then(() => loadScript(\"vega-lite\"))\n",
       "        .then(() => loadScript(\"vega-embed\"))\n",
       "        .catch(showError)\n",
       "        .then(() => displayChart(vegaEmbed));\n",
       "    }\n",
       "  })({\"config\": {\"view\": {\"continuousWidth\": 400, \"continuousHeight\": 300}, \"background\": \"#f0f0f0\", \"title\": {\"anchor\": \"start\"}}, \"layer\": [{\"mark\": \"bar\", \"encoding\": {\"x\": {\"type\": \"quantitative\", \"axis\": null, \"field\": \"shot_first\"}, \"y\": {\"type\": \"nominal\", \"axis\": null, \"field\": \"index\", \"sort\": [\"Han\", \"Greedo\", \"I don't understand this question\"]}}}, {\"mark\": {\"type\": \"text\", \"align\": \"left\", \"baseline\": \"middle\", \"dx\": 3}, \"encoding\": {\"text\": {\"type\": \"quantitative\", \"field\": \"percent\"}, \"x\": {\"type\": \"quantitative\", \"field\": \"shot_first\"}, \"y\": {\"type\": \"nominal\", \"field\": \"index\", \"sort\": [\"Han\", \"Greedo\", \"I don't understand this question\"]}}}], \"data\": {\"name\": \"data-e4f8ba3348bffe17e888f0f73543746d\"}, \"title\": {\"text\": [\"Who Shot First\"], \"subtitle\": [\"According to 828 Respondents\"]}, \"$schema\": \"https://vega.github.io/schema/vega-lite/v4.8.1.json\", \"datasets\": {\"data-e4f8ba3348bffe17e888f0f73543746d\": [{\"index\": \"Han\", \"shot_first\": 0.392512077294686, \"percent\": 39.0}, {\"index\": \"I don't understand this question\", \"shot_first\": 0.3695652173913043, \"percent\": 37.0}, {\"index\": \"Greedo\", \"shot_first\": 0.23792270531400966, \"percent\": 24.0}]}}, {\"mode\": \"vega-lite\"});\n",
       "</script>"
      ],
      "text/plain": [
       "alt.LayerChart(...)"
      ]
     },
     "execution_count": 22,
     "metadata": {},
     "output_type": "execute_result"
    }
   ],
   "source": [
    "(part1 + part2).properties(\n",
    "    title = {\n",
    "        \"text\": [\"Who Shot First\"], \n",
    "        \"subtitle\": [\"According to 828 Respondents\"]\n",
    "    }\n",
    ").configure(\n",
    "    background = \"#f0f0f0\"\n",
    ").configure_title(\n",
    "    anchor = \"start\"\n",
    ")"
   ]
  },
  {
   "cell_type": "markdown",
   "metadata": {},
   "source": [
    "### Second Recreated Visual\n",
    "#### What is the Best Star Wars Movie?"
   ]
  },
  {
   "cell_type": "code",
   "execution_count": null,
   "metadata": {},
   "outputs": [],
   "source": [
    "sw_data2 = (sw_data\n",
    "    .replace()\n",
    "\n",
    ") "
   ]
  },
  {
   "cell_type": "code",
   "execution_count": null,
   "metadata": {},
   "outputs": [],
   "source": []
  },
  {
   "cell_type": "code",
   "execution_count": 23,
   "metadata": {},
   "outputs": [
    {
     "data": {
      "text/plain": [
       "(835, 6)"
      ]
     },
     "execution_count": 23,
     "metadata": {},
     "output_type": "execute_result"
    }
   ],
   "source": [
    "# First graph in the article - \"Which 'Star Wars' Movies Have You Seen?\"\n",
    "\n",
    "# dat_1.seen_any.value_counts() # what-what?\n",
    "(\n",
    "sw_data\n",
    ".filter(regex='^seen__')\n",
    ".dropna(how=\"all\")\n",
    ".shape\n",
    ")\n",
    "\n",
    "\n",
    "# On tuesday we'll do text data stuff.\n",
    "# Watch the video she'll post on this.\n",
    "# The take method's test."
   ]
  },
  {
   "cell_type": "code",
   "execution_count": null,
   "metadata": {},
   "outputs": [],
   "source": [
    "# First recreated summary"
   ]
  },
  {
   "cell_type": "code",
   "execution_count": null,
   "metadata": {},
   "outputs": [],
   "source": [
    "(sw_data.query(\"gender == 'Female' & seen_any == 'Yes'\")\n",
    "        .is_fan_star_wars\n",
    "        .value_counts(normalize = True))"
   ]
  },
  {
   "cell_type": "code",
   "execution_count": null,
   "metadata": {},
   "outputs": [],
   "source": [
    "# Second recreated summary"
   ]
  },
  {
   "cell_type": "markdown",
   "metadata": {},
   "source": [
    "### Grand Question 3\n",
    "**Clean and format the data so that it can be used in a machine learning model. As you format the data, you should complete each item listed below. In your final report provide example(s) of the reformatted data with a short description of the changes made.**\n",
    "\n",
    "a. Filter the dataset to respondents that have seen at least one film.\n",
    "\n",
    "b. Create a new column that converts the age ranges to a single number. Drop the age range categorical column.\n",
    "\n",
    "c. Create a new column that converts the school groupings to a single number. Drop the school categorical \n",
    "column.\n",
    "\n",
    "d. Create a new column that converts the income ranges to a single number. Drop the income range categorical \n",
    "column.\n",
    "\n",
    "e. Create your target (also known as \"y\" or \"label\") column based on the new income range column.\n",
    "\n",
    "f. One-hot encode all remaining categorical columns."
   ]
  },
  {
   "cell_type": "code",
   "execution_count": null,
   "metadata": {},
   "outputs": [],
   "source": [
    "# A) Filter the dataset to respondents that have seen at least one film.\n",
    "\n",
    "q3 = sw_data.query('seen_any == \"Yes\"')\n",
    "# q3.head()"
   ]
  },
  {
   "cell_type": "code",
   "execution_count": null,
   "metadata": {},
   "outputs": [],
   "source": [
    "# B) Create a new column that converts the age ranges to a single number. Drop the age range categorical column.\n",
    "\n",
    "ml_age = (q3.age\n",
    "   .str.replace(\"> \", \"\")\n",
    "   .str.split(\"-\", expand = True)\n",
    "   .rename(columns = {0: \"age_min\", 1: \"age_max\"}) # this makes altair happy because they don't like integers as column names\n",
    "   .age_min\n",
    "   .astype(\"float\")\n",
    ")\n",
    "# ml_age"
   ]
  },
  {
   "cell_type": "code",
   "execution_count": null,
   "metadata": {},
   "outputs": [],
   "source": [
    "# C) Create a new column that converts the school groupings to a single number. Drop the school categorical column.\n",
    "\n",
    "ml_school = (q3.education.\n",
    "        str.replace('Less than high school degree', '9').\n",
    "        str.replace('High school degree', '12').\n",
    "        str.replace('Some college or Associate degree', '14').\n",
    "        str.replace('Bachelor degree', '16').\n",
    "        str.replace('Graduate degree', '20').\n",
    "        astype('float')\n",
    "        )\n",
    "# ml_school"
   ]
  },
  {
   "cell_type": "code",
   "execution_count": null,
   "metadata": {},
   "outputs": [],
   "source": [
    "# D) Create a new column that converts the income ranges to a single number. Drop the income range categorical column.\n",
    "\n",
    "ml_income = (q3.household_income\n",
    "   .str.replace(\"\\$|,|\\+\", \"\")\n",
    "   .str.split(\" - \", expand=True)\n",
    "   .rename(columns = {0: \"income_min\", 1: \"income_max\"}) # this makes altair happy because they don't like integers as column names\n",
    "   .income_min\n",
    "   .astype(\"float\")\n",
    ")\n",
    "# ml_income"
   ]
  },
  {
   "cell_type": "code",
   "execution_count": null,
   "metadata": {},
   "outputs": [],
   "source": [
    "# E) One-hot encode all remaining categorical columns.\n",
    "\n",
    "# sw_data.columns\n",
    "# q3.columns\n",
    "\n",
    "ml_dummies = pd.get_dummies(q3.filter()) # copy and paste all columns from columns above. See picture on phone. This is where I need help wrangling things from the lab"
   ]
  },
  {
   "cell_type": "code",
   "execution_count": null,
   "metadata": {},
   "outputs": [],
   "source": [
    "sw_data.columns"
   ]
  },
  {
   "cell_type": "code",
   "execution_count": null,
   "metadata": {},
   "outputs": [],
   "source": [
    "# F) Create your target (also known as \"y\" or \"label\") column based on the new income range column.\n"
   ]
  },
  {
   "cell_type": "markdown",
   "metadata": {},
   "source": [
    "### Grand Question 4\n",
    "**Build a machine learning model that predicts whether a person makes more than $50k.**"
   ]
  },
  {
   "cell_type": "code",
   "execution_count": null,
   "metadata": {},
   "outputs": [],
   "source": []
  }
 ],
 "metadata": {
  "interpreter": {
   "hash": "3269ba1cb23deedadf404aebb4fbd50b01bdb34b2ceb15f81103dfd008217e9a"
  },
  "kernelspec": {
   "display_name": "Python 3.9.7 64-bit ('sklearn-venv': venv)",
   "language": "python",
   "name": "python3"
  },
  "language_info": {
   "codemirror_mode": {
    "name": "ipython",
    "version": 3
   },
   "file_extension": ".py",
   "mimetype": "text/x-python",
   "name": "python",
   "nbconvert_exporter": "python",
   "pygments_lexer": "ipython3",
   "version": "3.9.7"
  },
  "orig_nbformat": 4
 },
 "nbformat": 4,
 "nbformat_minor": 2
}
