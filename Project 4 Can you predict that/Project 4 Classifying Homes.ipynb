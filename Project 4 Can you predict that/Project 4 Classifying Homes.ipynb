{
 "cells": [
  {
   "cell_type": "code",
   "execution_count": null,
   "metadata": {},
   "outputs": [],
   "source": [
    "# Libraries\n",
    "import pandas as pd\n",
    "import altair as alt\n",
    "import numpy as np\n",
    "import xgboost\n",
    "\n",
    "from sklearn.model_selection import train_test_split\n",
    "from sklearn.metrics import confusion_matrix\n",
    "\n",
    "from sklearn.naive_bayes import GaussianNB\n",
    "from sklearn.tree import DecisionTreeClassifier\n",
    "from sklearn.ensemble import RandomForestClassifier\n",
    "from sklearn.ensemble import GradientBoostingClassifier\n",
    "\n",
    "from sklearn import metrics\n",
    "from sklearn import tree\n",
    "\n",
    "\n",
    "denver_dwelling = pd.read_csv(\"https://github.com/byuidatascience/data4dwellings/raw/master/data-raw/dwellings_ml/dwellings_ml.csv\")\n",
    "dwellings_ml = pd.read_csv(\"https://github.com/byuidatascience/data4dwellings/raw/master/data-raw/dwellings_ml/dwellings_ml.csv\")\n",
    "\n",
    "alt.data_transformers.enable('json')"
   ]
  },
  {
   "cell_type": "markdown",
   "metadata": {},
   "source": [
    "## Grand Question 1 \n",
    "Create 2-3 charts that evaluate potential relationships between the house variables and the variable before1980 Explain what you learn from the charts that could help a machine learning algorithm.\n",
    "\n"
   ]
  },
  {
   "cell_type": "code",
   "execution_count": null,
   "metadata": {},
   "outputs": [],
   "source": [
    "# year column and something else\n",
    "(\n",
    "    alt.Chart(dwellings_ml)\n",
    "    .mark_boxplot()\n",
    "    .encode(\n",
    "        y = alt.Y('yrbuilt:Q', \n",
    "        scale=alt.Scale(domain=[1800, 2020])\n",
    "        ), \n",
    "        x = alt.X('arcstyle_ONE AND HALF-STORY:O')\n",
    "        # , color = \"before1980:O\"\n",
    "        )\n",
    ")"
   ]
  },
  {
   "cell_type": "code",
   "execution_count": null,
   "metadata": {},
   "outputs": [],
   "source": [
    "# year column and something else\n",
    "\n",
    "(\n",
    "    alt.Chart(dwellings_ml)\n",
    "    .mark_boxplot()\n",
    "    .encode(\n",
    "        y = alt.Y('yrbuilt:Q', \n",
    "        scale=alt.Scale(domain=[1850, 2020])\n",
    "        ), # zoom into the revelant years\n",
    "        x = alt.X('arcstyle_SPLIT LEVEL:O')\n",
    "        # , color = \"before1980:O\"\n",
    "        )\n",
    ")"
   ]
  },
  {
   "cell_type": "code",
   "execution_count": null,
   "metadata": {},
   "outputs": [],
   "source": [
    "(\n",
    "    alt.Chart(dwellings_ml)\n",
    "    .mark_boxplot()\n",
    "    .encode(\n",
    "        y = alt.Y('yrbuilt:Q', \n",
    "        scale=alt.Scale(domain=[1850, 2020])\n",
    "        ), # zoom into the revelant years\n",
    "        x = alt.X('condition_AVG:O')\n",
    "        # , color = \"before1980:O\"\n",
    "        )\n",
    ")"
   ]
  },
  {
   "cell_type": "markdown",
   "metadata": {},
   "source": [
    "## Grand Question 2\n",
    "Build a classification model labeling houses as being built “before 1980” or “during or after 1980”. Your goal is to reach 90% accuracy. Explain your final model choice (algorithm, tuning parameters, etc) and describe what other models you tried.\n",
    "\n",
    "\n"
   ]
  },
  {
   "cell_type": "code",
   "execution_count": null,
   "metadata": {},
   "outputs": [],
   "source": [
    "# \"X\" or \"independent\"\n",
    "features = dwellings_ml.drop(columns = ['before1980', 'yrbuilt','parcel'])\n",
    "\n",
    "# \"y\" or \"dependent\" or \"outcome\"\n",
    "targets = dwellings_ml.before1980\n",
    "# targets must already be boolean (classification type)\n",
    "\n",
    "\n",
    "# split the data!\n",
    "x_train, x_test, y_train, y_test = train_test_split(features, targets, test_size = .20, random_state = 76)\n",
    "\n"
   ]
  },
  {
   "cell_type": "code",
   "execution_count": null,
   "metadata": {},
   "outputs": [],
   "source": [
    "classifier_DT = RandomForestClassifier(max_depth=30) #create a classification model\n",
    " # I fear that this is over fitting. How can I check for this?\n",
    "# classifier_DT = DecisionClassifier(max_depth=10)\n",
    "\n",
    "# train the model\n",
    "classifier_DT.fit(x_train, y_train)\n",
    "\n",
    "# use your model to make predictions!\n",
    "y_predicted = classifier_DT.predict(x_test)\n",
    "\n",
    "\n",
    "# test how accurate those predictions are\n",
    "metrics.accuracy_score(y_test, y_predicted)"
   ]
  },
  {
   "cell_type": "markdown",
   "metadata": {},
   "source": [
    "I opted to do a random forest model. I have the training data set at 80% and the test data at 20%. The max depth of the model is at 10 which gives us 90% accuracy. "
   ]
  },
  {
   "cell_type": "markdown",
   "metadata": {},
   "source": [
    "## Grand Question 3 \n",
    "Justify your classification model by discussing the most important features selected by your model. This discussion should include a chart and a description of the features.\n",
    "\n"
   ]
  },
  {
   "cell_type": "code",
   "execution_count": null,
   "metadata": {},
   "outputs": [],
   "source": [
    "feature_df = pd.DataFrame({'features':features.columns, 'importance':classifier_DT.feature_importances_})\n",
    "\n",
    "feature_importance = feature_df.sort_values('importance', ascending = False).reset_index().head(10)\n",
    "\n",
    "feature_importance"
   ]
  },
  {
   "cell_type": "markdown",
   "metadata": {},
   "source": [
    "For the features in our model (xs), we use everything except the: `before1980`, `yrbuilt`, and `parcel` columns. Our target (Y variable), we use `before1980`. \n",
    "\n",
    "We can find which are the most contributing features by looking at the chart below."
   ]
  },
  {
   "cell_type": "code",
   "execution_count": null,
   "metadata": {},
   "outputs": [],
   "source": [
    "feat_importances = pd.Series(\n",
    "    classifier_DT\n",
    "    .feature_importances_, index=x_test\n",
    "    .columns\n",
    ")\n",
    "\n",
    "significance_graph = (\n",
    "    feat_importances\n",
    "    .nlargest(10)\n",
    "    .plot(kind='barh')\n",
    ")\n",
    "significance_graph"
   ]
  },
  {
   "cell_type": "markdown",
   "metadata": {},
   "source": [
    "## Grand Question 4\n",
    "Describe the quality of your classification model using 2-3 different evaluation metrics. You also need to explain how to interpret each of the evaluation metrics you use.\n",
    "\n"
   ]
  },
  {
   "cell_type": "code",
   "execution_count": null,
   "metadata": {},
   "outputs": [],
   "source": [
    "# Accuracy Score \n",
    "\n",
    "from sklearn.metrics import accuracy_score\n",
    "\n",
    "accuracy = accuracy_score(y_test, classifier_DT.predict(x_test))\n",
    "accuracy"
   ]
  },
  {
   "cell_type": "markdown",
   "metadata": {},
   "source": [
    "Accuracy is the correct answers divided by the correct answers and incorrect answers. This is similiar to a grade on a test. "
   ]
  },
  {
   "cell_type": "code",
   "execution_count": null,
   "metadata": {},
   "outputs": [],
   "source": [
    "# Recall Score\n",
    "from sklearn.metrics import recall_score\n",
    "\n",
    "recall = recall_score(y_test, y_predicted, average='binary')\n",
    "recall"
   ]
  },
  {
   "cell_type": "markdown",
   "metadata": {},
   "source": [
    "Recall is the number of true positives divided by the number of true positives plus the number of false negatives. This metric's nature is all about the *actual positives*. "
   ]
  },
  {
   "cell_type": "code",
   "execution_count": null,
   "metadata": {},
   "outputs": [],
   "source": [
    "# Precision Score\n",
    "\n",
    "from sklearn.metrics import precision_score\n",
    "precision = precision_score(y_test, y_predicted, average='binary')\n",
    "precision"
   ]
  },
  {
   "cell_type": "markdown",
   "metadata": {},
   "source": [
    "Precision is the number of true positives divided by the number of true positives plus false positives. This metric's nature is all about the *predicted positives*. "
   ]
  }
 ],
 "metadata": {
  "interpreter": {
   "hash": "1829f6727cfd50cc2b28cfb4c3361c4127d6b937d4bd1de14de3ba12a0b61d85"
  },
  "kernelspec": {
   "display_name": "Python 3.9.7 64-bit",
   "language": "python",
   "name": "python3"
  },
  "language_info": {
   "codemirror_mode": {
    "name": "ipython",
    "version": 3
   },
   "file_extension": ".py",
   "mimetype": "text/x-python",
   "name": "python",
   "nbconvert_exporter": "python",
   "pygments_lexer": "ipython3",
   "version": "3.9.7"
  },
  "orig_nbformat": 4
 },
 "nbformat": 4,
 "nbformat_minor": 2
}
