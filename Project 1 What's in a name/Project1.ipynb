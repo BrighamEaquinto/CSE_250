{
 "cells": [
  {
   "cell_type": "markdown",
   "metadata": {},
   "source": [
    "# Project 1: What's in a name?\n",
    "\n",
    "## Deliverables\n",
    "1. Use the provided template to submit your case study. The template has three sections:\n",
    "2. A short summary that describes the results of the project and the tools you used. (Think “elevator pitch”.)\n",
    "3. Answers to the grand questions. Each answer should include a written description of your results, and may also include charts or tables.\n",
    "4. An appendix that provides your commented code. Your code comments should justify any decisions you had to make while programming."
   ]
  },
  {
   "cell_type": "code",
   "execution_count": null,
   "metadata": {},
   "outputs": [],
   "source": [
    "# Libraries\n",
    "import pandas as pd\n",
    "import altair as alt\n",
    "import numpy as np\n",
    "# alt.data_transformers.enable('json')"
   ]
  },
  {
   "cell_type": "code",
   "execution_count": null,
   "metadata": {},
   "outputs": [],
   "source": [
    "# Read in data\n",
    "dat = pd.read_csv(\"https://raw.githubusercontent.com/byuidatascience/data4names/master/data-raw/names_year/names_year.csv\")\n",
    "\n",
    "# Data info: https://github.com/byuidatascience/data4names/blob/master/data.md"
   ]
  },
  {
   "cell_type": "code",
   "execution_count": null,
   "metadata": {},
   "outputs": [],
   "source": [
    "# Clean Data"
   ]
  },
  {
   "cell_type": "markdown",
   "metadata": {},
   "source": [
    "## Grand Question 1: \n",
    "How does your name at your birth year compare to its use historically?"
   ]
  },
  {
   "cell_type": "code",
   "execution_count": null,
   "metadata": {},
   "outputs": [],
   "source": [
    "q1 = dat.query('name == \"Brigham\"')\n",
    "q1_1 = dat[['name', 'year', 'Total']].query('name == \"Brigham\" & year == 1998')\n",
    "# q1_1\n",
    "# q1_1[0:-3]\n"
   ]
  },
  {
   "cell_type": "code",
   "execution_count": null,
   "metadata": {},
   "outputs": [],
   "source": [
    "# Altair Charts\n",
    "\n",
    "brigham_data = pd.DataFrame({\n",
    "        \"year\":[1998],\n",
    "        \"name\":[\"Brigham\"],\n",
    "        \"label\":[\"Birth Year\"],\n",
    "        \"y\":[80]\n",
    "})\n",
    "\n",
    "yearchart = (alt.Chart(q1)\n",
    "                .mark_line()\n",
    "                .encode(\n",
    "                        x='year:O',\n",
    "                        y='Total',)\n",
    "                .properties(width = 600, title = \"Usage of Brigham Over Time\")\n",
    ")\n",
    "# yearchart\n",
    "\n",
    "line = (alt.Chart(brigham_data)\n",
    "                .mark_rule()\n",
    "                .encode(x = alt.X(\"year:O\"))\n",
    ")\n",
    "\n",
    "text = (alt.Chart(brigham_data)\n",
    "        .mark_text(dx = -70, \n",
    "                   dy = -10, \n",
    "                   color = \"black\")\n",
    "        .encode(\n",
    "                x='year:O', \n",
    "                text = alt.condition(\n",
    "                        'datum.year == 1998',\n",
    "                        alt.value('This is when I was born :D \\nThere were 30 at the time, \\nI was the 31st!'),\n",
    "                        alt.value('')\n",
    "        ))\n",
    "        .properties(width = 600, title = \"Usage of Brigham Over Time\")\n",
    "\n",
    ")\n",
    "# m1\n",
    "\n",
    "bigchart = yearchart + line + text\n",
    "bigchart\n",
    "\n",
    "bigchart.save('gq1chart.png')\n"
   ]
  },
  {
   "cell_type": "markdown",
   "metadata": {},
   "source": [
    "## Grand Question 2:\n",
    "If you talked to someone named Brittany on the phone, what is your guess of his or her age? What ages would you not guess?"
   ]
  },
  {
   "cell_type": "code",
   "execution_count": null,
   "metadata": {},
   "outputs": [],
   "source": [
    "brittany = (\n",
    "    dat\n",
    "    .query('name == \"Brittany\" and year > 1980')\n",
    "    .assign(age = lambda x: abs(x.year - 2021) )\n",
    "    .filter([\"name\", \"year\", \"Total\", \"age\"])\n",
    ")\n",
    "# brittany\n",
    "\n",
    "brittany_chart = (\n",
    "    alt.Chart(brittany)\n",
    "    .mark_bar()\n",
    "    .encode(\n",
    "        x = alt.X('year:O'),\n",
    "        y = alt.Y('Total:Q')\n",
    "    )\n",
    "    .properties(title = \"Brittany Age\")\n",
    ")\n",
    "# brittany_chart\n",
    "\n",
    "brittany_chart.save('gq2chart.png')"
   ]
  },
  {
   "cell_type": "markdown",
   "metadata": {},
   "source": [
    "## Grand Question 3: \n",
    "Mary, Martha, Peter, and Paul are all Christian names. From 1920 to 2000, compare the name usage of each of the four names."
   ]
  },
  {
   "cell_type": "code",
   "execution_count": null,
   "metadata": {},
   "outputs": [],
   "source": [
    "list3 = [\"Mary\", \"Martha\", \"Peter\", \"Paul\"]\n",
    "dat3 = dat.query('name == @list3')\n",
    "\n",
    "# q1 = dat.query('name == \"Brigham\"')\n",
    "# q1_1 = dat.query('name == \"Brigham\" and year == \"1998\"')\n",
    "\n",
    "chart3 = (\n",
    "alt.Chart(dat3)\n",
    "    .mark_line().encode(\n",
    "        x = alt.X('year:O', axis = alt.Axis(title = \"Year\", format = 'd')),\n",
    "        y = alt.Y('Total:Q', title = \"Name Count\"), \n",
    "        color = \"name\"\n",
    "        )\n",
    "        .properties(width = 500, title = \"Martha, Mary, Paul, and Peter Names Over the Years\")\n",
    ")\n",
    "chart3\n",
    "# chart3.save('gq3chart.png')"
   ]
  },
  {
   "cell_type": "markdown",
   "metadata": {},
   "source": [
    "## Grand Question 4: \n",
    "Think of a unique name from a famous movie. Plot the usage of that name and see how changes line up with the movie release."
   ]
  },
  {
   "cell_type": "code",
   "execution_count": null,
   "metadata": {},
   "outputs": [],
   "source": [
    "chart_4 = pd.DataFrame({\n",
    "        \"year1\":[1981],\n",
    "        \"year2\":[1984],\n",
    "        \"year3\":[1989], \n",
    "        \"year4\":[2008]\n",
    "})\n",
    "\n",
    "dat3= (\n",
    "    dat\n",
    "    .query('name == \"Harrison\"')\n",
    "    # .groupby('year')\n",
    "    # .agg(total_year = ('name', sum))\n",
    ")\n",
    "# dat3\n",
    "\n",
    "chart4 = (\n",
    "alt.Chart(dat3)\n",
    "    .mark_line()\n",
    "        .encode(\n",
    "        x = alt.X('year:O', title = \"Year\"),\n",
    "        y = alt.Y('Total:Q', title = \"Count of Name\")\n",
    "    )\n",
    "    .properties(title = \"Use of 'Harrison' Over Time (Movies Shown With Black Line)\", width = 500)\n",
    ")\n",
    "# chart4\n",
    "\n",
    "line1 = (alt.Chart(chart_4)\n",
    "                .mark_rule()\n",
    "                .encode(x = alt.X('year1:O'))\n",
    ")\n",
    "\n",
    "line2 = (alt.Chart(chart_4)\n",
    "                .mark_rule()\n",
    "                .encode(x = alt.X('year2:O'))\n",
    ")\n",
    "\n",
    "line3 = (alt.Chart(chart_4)\n",
    "                .mark_rule()\n",
    "                .encode(x = alt.X('year3:O'))\n",
    ")\n",
    "\n",
    "line4 = (alt.Chart(chart_4)\n",
    "                .mark_rule()\n",
    "                .encode(x = alt.X('year4:O'))\n",
    ")\n",
    "\n",
    "final_chart = chart4 + line1 + line2 + line3 + line4\n",
    "# final_chart\n",
    "\n",
    "# final_chart.save('gq4chart.png')"
   ]
  },
  {
   "cell_type": "code",
   "execution_count": 195,
   "metadata": {},
   "outputs": [],
   "source": [
    "chart_4_2 = pd.DataFrame({\n",
    "        \"year1\":[1977],\n",
    "        \"year2\":[1980],\n",
    "        \"year3\":[1983]\n",
    "})\n",
    "\n",
    "dat3= (\n",
    "    dat\n",
    "    .query('name == \"Harrison\"')\n",
    ")\n",
    "# dat3\n",
    "\n",
    "chart4_2 = (\n",
    "alt.Chart(dat3)\n",
    "    .mark_line()\n",
    "        .encode(\n",
    "        x = alt.X('year:O', title = \"Year\"),\n",
    "        y = alt.Y('Total:Q', title = \"Count of Name\")\n",
    "    )\n",
    "    .properties(title = \"Use of 'Harrison' Over Time (Movies Shown With Black Line)\", width = 500)\n",
    ")\n",
    "# chart4\n",
    "\n",
    "line1 = (alt.Chart(chart_4_2)\n",
    "                .mark_rule()\n",
    "                .encode(x = alt.X('year1:O'))\n",
    ")\n",
    "\n",
    "line2 = (alt.Chart(chart_4_2)\n",
    "                .mark_rule()\n",
    "                .encode(x = alt.X('year2:O'))\n",
    ")\n",
    "\n",
    "line3 = (alt.Chart(chart_4_2)\n",
    "                .mark_rule()\n",
    "                .encode(x = alt.X('year3:O'))\n",
    ")\n",
    "\n",
    "final_chart_2 = chart4 + line1 + line2 + line3 + final_chart\n",
    "# final_chart_2\n",
    "\n",
    "final_chart_2.save('gq4_2chart.png')"
   ]
  },
  {
   "cell_type": "code",
   "execution_count": null,
   "metadata": {},
   "outputs": [],
   "source": []
  }
 ],
 "metadata": {
  "interpreter": {
   "hash": "1829f6727cfd50cc2b28cfb4c3361c4127d6b937d4bd1de14de3ba12a0b61d85"
  },
  "kernelspec": {
   "display_name": "Python 3.9.7 64-bit",
   "name": "python3"
  },
  "language_info": {
   "codemirror_mode": {
    "name": "ipython",
    "version": 3
   },
   "file_extension": ".py",
   "mimetype": "text/x-python",
   "name": "python",
   "nbconvert_exporter": "python",
   "pygments_lexer": "ipython3",
   "version": "3.9.7"
  },
  "orig_nbformat": 4
 },
 "nbformat": 4,
 "nbformat_minor": 2
}
