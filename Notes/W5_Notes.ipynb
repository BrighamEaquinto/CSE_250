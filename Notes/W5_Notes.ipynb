{
 "cells": [
  {
   "cell_type": "code",
   "execution_count": null,
   "metadata": {},
   "outputs": [],
   "source": [
    "import pandas as pd   # to load and transform data\n",
    "import numpy as np    # for math/stat calculations\n",
    "import altair as alt"
   ]
  },
  {
   "cell_type": "code",
   "execution_count": null,
   "metadata": {},
   "outputs": [],
   "source": [
    "# Read in data\n",
    "flights = pd.read_json(\"https://github.com/byuidatascience/data4missing/raw/master/data-raw/flights_missing/flights_missing.json\")"
   ]
  },
  {
   "cell_type": "code",
   "execution_count": null,
   "metadata": {},
   "outputs": [],
   "source": [
    "# Wrangle Data\n",
    "(\n",
    "flights.groupby('airport_code')\n",
    "       .agg(total_flights = ('num_of_flights_total', sum), \n",
    "            total_delays = ('num_of_delays_total', sum), \n",
    "            total_delay_minutes = ('minutes_delayed_total', sum))\n",
    "       .assign(prop_delays = lambda X: X.total_delays / X.total_flights, \n",
    "               avg_delay_hours = lambda X: X.total_delay_minutes / X.total_delays / 60)\n",
    "       .sort_values('prop_delays')\n",
    "       .reset_index()\n",
    "\n",
    ")"
   ]
  },
  {
   "cell_type": "code",
   "execution_count": null,
   "metadata": {},
   "outputs": [],
   "source": [
    "# flights.describe()\n",
    "\n",
    "# flights.info()\n",
    "\n",
    "flights.num_of_delays_carrier.value_counts()\n",
    "flights.num_of_delays_weather.value_counts()\n",
    "flights.query('num_of_delays_carrier == \"1500+\"')\n",
    "flights.replace([\"1500+\", -999], np.nan)"
   ]
  },
  {
   "cell_type": "code",
   "execution_count": null,
   "metadata": {},
   "outputs": [],
   "source": [
    "#dat.name.nunique()\n",
    "#dat['name'].nunique()\n",
    "\n",
    "#dat.name.value_counts()\n",
    "#dat['name'].value_counts() \n",
    "\n",
    "#dat.name.unique()\n",
    "#dat['name'].unique()\n",
    "\n",
    "#dat.filter(['names']).values_counts()\n",
    "\n",
    "#dat2 = dat[['name','UT']]\n",
    "#dat2.query('name == \"Oliver\"').nunique()\n",
    "\n",
    "\n",
    "#dat.year.max() - dat.year.min()\n",
    "#dat.describe()\n",
    "\n",
    "\n",
    "# dat.query('name == \"Oliver\"').UT.sum()"
   ]
  },
  {
   "cell_type": "code",
   "execution_count": null,
   "metadata": {},
   "outputs": [],
   "source": [
    "# flights.query('num_of_delays_late_aircraft == \"-999\"')\n",
    "# flights.replace([\"1500+\", -999], np.nan)\n",
    "# flights.replace([-999, 999, \"1500+\", \"\"], np.nan).fillna(value = late_aircraft_avg)\n",
    "# flights.fillna(method =\"bfill\")\n",
    "# late_aircraft_avg = flights.num_of_delays_late_aircraft.mean()\n",
    "# late_aircraft_avg"
   ]
  }
 ],
 "metadata": {
  "interpreter": {
   "hash": "1829f6727cfd50cc2b28cfb4c3361c4127d6b937d4bd1de14de3ba12a0b61d85"
  },
  "kernelspec": {
   "display_name": "Python 3.9.7 64-bit",
   "name": "python3"
  },
  "language_info": {
   "codemirror_mode": {
    "name": "ipython",
    "version": 3
   },
   "file_extension": ".py",
   "mimetype": "text/x-python",
   "name": "python",
   "nbconvert_exporter": "python",
   "pygments_lexer": "ipython3",
   "version": "3.9.7"
  },
  "orig_nbformat": 4
 },
 "nbformat": 4,
 "nbformat_minor": 2
}
