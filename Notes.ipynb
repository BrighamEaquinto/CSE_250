{
 "cells": [
  {
   "cell_type": "code",
   "execution_count": 7,
   "metadata": {},
   "outputs": [],
   "source": [
    "import pandas as pd   # to load and transform data\n",
    "import numpy as np    # for math/stat calculations\n",
    "import altair as alt"
   ]
  },
  {
   "cell_type": "code",
   "execution_count": 2,
   "metadata": {},
   "outputs": [],
   "source": [
    "# Read in data\n",
    "flights = pd.read_json(\"https://github.com/byuidatascience/data4missing/raw/master/data-raw/flights_missing/flights_missing.json\")"
   ]
  },
  {
   "cell_type": "code",
   "execution_count": 9,
   "metadata": {},
   "outputs": [
    {
     "data": {
      "text/html": [
       "<div>\n",
       "<style scoped>\n",
       "    .dataframe tbody tr th:only-of-type {\n",
       "        vertical-align: middle;\n",
       "    }\n",
       "\n",
       "    .dataframe tbody tr th {\n",
       "        vertical-align: top;\n",
       "    }\n",
       "\n",
       "    .dataframe thead th {\n",
       "        text-align: right;\n",
       "    }\n",
       "</style>\n",
       "<table border=\"1\" class=\"dataframe\">\n",
       "  <thead>\n",
       "    <tr style=\"text-align: right;\">\n",
       "      <th></th>\n",
       "      <th>airport_code</th>\n",
       "      <th>total_flights</th>\n",
       "      <th>total_delays</th>\n",
       "      <th>total_delay_minutes</th>\n",
       "      <th>prop_delays</th>\n",
       "      <th>avg_delay_hours</th>\n",
       "    </tr>\n",
       "  </thead>\n",
       "  <tbody>\n",
       "    <tr>\n",
       "      <th>0</th>\n",
       "      <td>SLC</td>\n",
       "      <td>1403384</td>\n",
       "      <td>205160</td>\n",
       "      <td>10123371</td>\n",
       "      <td>0.146189</td>\n",
       "      <td>0.822396</td>\n",
       "    </tr>\n",
       "    <tr>\n",
       "      <th>1</th>\n",
       "      <td>DEN</td>\n",
       "      <td>2513974</td>\n",
       "      <td>468519</td>\n",
       "      <td>25173381</td>\n",
       "      <td>0.186366</td>\n",
       "      <td>0.895495</td>\n",
       "    </tr>\n",
       "    <tr>\n",
       "      <th>2</th>\n",
       "      <td>SAN</td>\n",
       "      <td>917862</td>\n",
       "      <td>175132</td>\n",
       "      <td>8276248</td>\n",
       "      <td>0.190804</td>\n",
       "      <td>0.787620</td>\n",
       "    </tr>\n",
       "    <tr>\n",
       "      <th>3</th>\n",
       "      <td>IAD</td>\n",
       "      <td>851571</td>\n",
       "      <td>168467</td>\n",
       "      <td>10283478</td>\n",
       "      <td>0.197831</td>\n",
       "      <td>1.017358</td>\n",
       "    </tr>\n",
       "    <tr>\n",
       "      <th>4</th>\n",
       "      <td>ATL</td>\n",
       "      <td>4430047</td>\n",
       "      <td>902443</td>\n",
       "      <td>53983926</td>\n",
       "      <td>0.203710</td>\n",
       "      <td>0.996996</td>\n",
       "    </tr>\n",
       "    <tr>\n",
       "      <th>5</th>\n",
       "      <td>ORD</td>\n",
       "      <td>3597588</td>\n",
       "      <td>830825</td>\n",
       "      <td>56356129</td>\n",
       "      <td>0.230939</td>\n",
       "      <td>1.130525</td>\n",
       "    </tr>\n",
       "    <tr>\n",
       "      <th>6</th>\n",
       "      <td>SFO</td>\n",
       "      <td>1630945</td>\n",
       "      <td>425604</td>\n",
       "      <td>26550493</td>\n",
       "      <td>0.260955</td>\n",
       "      <td>1.039718</td>\n",
       "    </tr>\n",
       "  </tbody>\n",
       "</table>\n",
       "</div>"
      ],
      "text/plain": [
       "  airport_code  total_flights  total_delays  total_delay_minutes  prop_delays  \\\n",
       "0          SLC        1403384        205160             10123371     0.146189   \n",
       "1          DEN        2513974        468519             25173381     0.186366   \n",
       "2          SAN         917862        175132              8276248     0.190804   \n",
       "3          IAD         851571        168467             10283478     0.197831   \n",
       "4          ATL        4430047        902443             53983926     0.203710   \n",
       "5          ORD        3597588        830825             56356129     0.230939   \n",
       "6          SFO        1630945        425604             26550493     0.260955   \n",
       "\n",
       "   avg_delay_hours  \n",
       "0         0.822396  \n",
       "1         0.895495  \n",
       "2         0.787620  \n",
       "3         1.017358  \n",
       "4         0.996996  \n",
       "5         1.130525  \n",
       "6         1.039718  "
      ]
     },
     "execution_count": 9,
     "metadata": {},
     "output_type": "execute_result"
    }
   ],
   "source": [
    "# Wrangle Data\n",
    "(\n",
    "flights.groupby('airport_code')\n",
    "       .agg(total_flights = ('num_of_flights_total', sum), \n",
    "            total_delays = ('num_of_delays_total', sum), \n",
    "            total_delay_minutes = ('minutes_delayed_total', sum))\n",
    "       .assign(prop_delays = lambda X: X.total_delays / X.total_flights, \n",
    "               avg_delay_hours = lambda X: X.total_delay_minutes / X.total_delays / 60)\n",
    "       .sort_values('prop_delays')\n",
    "       .reset_index()\n",
    "\n",
    ")"
   ]
  },
  {
   "cell_type": "code",
   "execution_count": null,
   "metadata": {},
   "outputs": [],
   "source": [
    "# flights.describe()\n",
    "\n",
    "# flights.info()\n",
    "\n",
    "flights.num_of_delays_carrier.value_counts()\n",
    "flights.num_of_delays_weather.value_counts()\n",
    "flights.query('num_of_delays_carrier == \"1500+\"')\n",
    "flights.replace([\"1500+\", -999], np.nan)"
   ]
  }
 ],
 "metadata": {
  "interpreter": {
   "hash": "1829f6727cfd50cc2b28cfb4c3361c4127d6b937d4bd1de14de3ba12a0b61d85"
  },
  "kernelspec": {
   "display_name": "Python 3.9.7 64-bit",
   "name": "python3"
  },
  "language_info": {
   "codemirror_mode": {
    "name": "ipython",
    "version": 3
   },
   "file_extension": ".py",
   "mimetype": "text/x-python",
   "name": "python",
   "nbconvert_exporter": "python",
   "pygments_lexer": "ipython3",
   "version": "3.9.7"
  },
  "orig_nbformat": 4
 },
 "nbformat": 4,
 "nbformat_minor": 2
}
