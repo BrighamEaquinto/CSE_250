{
 "cells": [
  {
   "cell_type": "code",
   "execution_count": 1,
   "metadata": {},
   "outputs": [],
   "source": [
    "# Set up\n",
    "\n",
    "# libraries\n",
    "import pandas as pd\n",
    "import altair as alt\n",
    "import numpy as np"
   ]
  },
  {
   "cell_type": "code",
   "execution_count": 2,
   "metadata": {},
   "outputs": [],
   "source": [
    "url = 'https://github.com/fivethirtyeight/data/raw/master/star-wars-survey/StarWars.csv'\n",
    "\n",
    "sw_cols = pd.read_csv(url, encoding = \"ISO-8859-1\", header = None, nrows = 2)\n",
    "sw_data = pd.read_csv(url, encoding = \"ISO-8859-1\", header = None, skiprows = 2) "
   ]
  },
  {
   "cell_type": "markdown",
   "metadata": {},
   "source": [
    "### Grand Question 1\n",
    "**Shorten the column names and clean them up for easier use with pandas.**"
   ]
  },
  {
   "cell_type": "code",
   "execution_count": 3,
   "metadata": {},
   "outputs": [],
   "source": [
    "bob = (sw_cols\n",
    "       .iloc[0,:]\n",
    "       .replace(\"Have you seen any of the 6 films in the Star Wars franchise?\", \"seen_any\")\n",
    "       .replace(\"Do you consider yourself to be a fan of the Star Wars film franchise?\", \"is_fan_star_wars\")\n",
    "       .replace(\"Which of the following Star Wars films have you seen? Please select all that apply.\", \"seen_\")\n",
    "       .replace(\"Please rank the Star Wars films in order of preference with 1 being your favorite film in the franchise and 6 being your least favorite film.\", \"film_rank\")\n",
    "       .replace(\"Please state whether you view the following characters favorably, unfavorably, or are unfamiliar with him/her.\", \"favorable_character\")\n",
    "       .replace(\"Which character shot first?\", \"shot_first\")\n",
    "       .replace(\"Are you familiar with the Expanded Universe?\", \"familiar_expanded_universe\")\n",
    "       .str.lower()\n",
    "       .str.replace(\" \", \"_\")\n",
    "       .ffill()\n",
    ") \n",
    "# bob"
   ]
  },
  {
   "cell_type": "code",
   "execution_count": 4,
   "metadata": {},
   "outputs": [],
   "source": [
    "mary = (sw_cols\n",
    "        .iloc[1,:]\n",
    "        .replace(\"Response\", \"\")\n",
    "        .str.replace(\"Star Wars: Episode\", \"\")\n",
    "        .str.lower()\n",
    "        .str.replace(\" \", \"_\")  #partial match, not full match\n",
    "        .fillna(\"\") #replace function specifically for NA values\n",
    ")\n",
    "# mary"
   ]
  },
  {
   "cell_type": "code",
   "execution_count": 5,
   "metadata": {},
   "outputs": [
    {
     "data": {
      "text/plain": [
       "0                      respondentid\n",
       "1                          seen_any\n",
       "2                  is_fan_star_wars\n",
       "3       seen__i__the_phantom_menace\n",
       "4    seen__ii__attack_of_the_clones\n",
       "dtype: object"
      ]
     },
     "execution_count": 5,
     "metadata": {},
     "output_type": "execute_result"
    }
   ],
   "source": [
    "new_column_names = bob + mary\n",
    "new_column_names.head()"
   ]
  },
  {
   "cell_type": "code",
   "execution_count": 6,
   "metadata": {},
   "outputs": [
    {
     "data": {
      "text/plain": [
       "8912"
      ]
     },
     "execution_count": 6,
     "metadata": {},
     "output_type": "execute_result"
    }
   ],
   "source": [
    "sw_data.columns = new_column_names\n",
    "\n",
    "sw_data\n",
    "8912\n",
    "# now we have our data set"
   ]
  },
  {
   "cell_type": "markdown",
   "metadata": {},
   "source": [
    "### Grand Question 2\n",
    "**Please validate that the data provided on GitHub lines up with the article by recreating 2 of their visuals and calculating 2 summaries that they report in the article.**"
   ]
  },
  {
   "cell_type": "markdown",
   "metadata": {},
   "source": [
    "#### First recreated visual\n",
    "\"Who Shot First?\""
   ]
  },
  {
   "cell_type": "code",
   "execution_count": 7,
   "metadata": {},
   "outputs": [
    {
     "data": {
      "text/html": [
       "<div>\n",
       "<style scoped>\n",
       "    .dataframe tbody tr th:only-of-type {\n",
       "        vertical-align: middle;\n",
       "    }\n",
       "\n",
       "    .dataframe tbody tr th {\n",
       "        vertical-align: top;\n",
       "    }\n",
       "\n",
       "    .dataframe thead th {\n",
       "        text-align: right;\n",
       "    }\n",
       "</style>\n",
       "<table border=\"1\" class=\"dataframe\">\n",
       "  <thead>\n",
       "    <tr style=\"text-align: right;\">\n",
       "      <th></th>\n",
       "      <th>index</th>\n",
       "      <th>shot_first</th>\n",
       "      <th>percent</th>\n",
       "    </tr>\n",
       "  </thead>\n",
       "  <tbody>\n",
       "    <tr>\n",
       "      <th>0</th>\n",
       "      <td>Han</td>\n",
       "      <td>0.392512</td>\n",
       "      <td>39.0</td>\n",
       "    </tr>\n",
       "    <tr>\n",
       "      <th>1</th>\n",
       "      <td>I don't understand this question</td>\n",
       "      <td>0.369565</td>\n",
       "      <td>37.0</td>\n",
       "    </tr>\n",
       "    <tr>\n",
       "      <th>2</th>\n",
       "      <td>Greedo</td>\n",
       "      <td>0.237923</td>\n",
       "      <td>24.0</td>\n",
       "    </tr>\n",
       "  </tbody>\n",
       "</table>\n",
       "</div>"
      ],
      "text/plain": [
       "                              index  shot_first  percent\n",
       "0                               Han    0.392512     39.0\n",
       "1  I don't understand this question    0.369565     37.0\n",
       "2                            Greedo    0.237923     24.0"
      ]
     },
     "execution_count": 7,
     "metadata": {},
     "output_type": "execute_result"
    }
   ],
   "source": [
    "shot = (sw_data['shot_first']\n",
    "        .dropna()\n",
    "        .value_counts(normalize = True)\n",
    "        .reset_index()\n",
    "        )\n",
    "\n",
    "shot[\"percent\"] = round(shot['shot_first']*100, 0) \n",
    "\n",
    "shot"
   ]
  },
  {
   "cell_type": "code",
   "execution_count": 8,
   "metadata": {},
   "outputs": [],
   "source": [
    "part1 = (alt.Chart(shot)\n",
    "            .mark_bar()\n",
    "            .encode(\n",
    "                x = alt.X('shot_first', \n",
    "                          axis = None), \n",
    "                y = alt.Y('index', \n",
    "                          sort = [\"Han\", \"Greedo\", \"I don't understand this question\"], \n",
    "                          axis = None)\n",
    "    )\n",
    ")\n",
    "# part1"
   ]
  },
  {
   "cell_type": "code",
   "execution_count": 9,
   "metadata": {},
   "outputs": [],
   "source": [
    "part2 = (alt.Chart(shot)\n",
    "            .mark_text(\n",
    "                align = 'left', baseline = 'middle', dx = 3\n",
    "                )\n",
    "            .encode(\n",
    "                x = 'shot_first', \n",
    "                y = alt.Y('index', \n",
    "                        sort = [\"Han\", \"Greedo\", \"I don't understand this question\"]), \n",
    "                        text = \"percent\")\n",
    "        )\n",
    "# part2"
   ]
  },
  {
   "cell_type": "code",
   "execution_count": 10,
   "metadata": {},
   "outputs": [
    {
     "data": {
      "text/html": [
       "\n",
       "<div id=\"altair-viz-4e632dce742b480d800bdd81e9004eff\"></div>\n",
       "<script type=\"text/javascript\">\n",
       "  (function(spec, embedOpt){\n",
       "    let outputDiv = document.currentScript.previousElementSibling;\n",
       "    if (outputDiv.id !== \"altair-viz-4e632dce742b480d800bdd81e9004eff\") {\n",
       "      outputDiv = document.getElementById(\"altair-viz-4e632dce742b480d800bdd81e9004eff\");\n",
       "    }\n",
       "    const paths = {\n",
       "      \"vega\": \"https://cdn.jsdelivr.net/npm//vega@5?noext\",\n",
       "      \"vega-lib\": \"https://cdn.jsdelivr.net/npm//vega-lib?noext\",\n",
       "      \"vega-lite\": \"https://cdn.jsdelivr.net/npm//vega-lite@4.8.1?noext\",\n",
       "      \"vega-embed\": \"https://cdn.jsdelivr.net/npm//vega-embed@6?noext\",\n",
       "    };\n",
       "\n",
       "    function loadScript(lib) {\n",
       "      return new Promise(function(resolve, reject) {\n",
       "        var s = document.createElement('script');\n",
       "        s.src = paths[lib];\n",
       "        s.async = true;\n",
       "        s.onload = () => resolve(paths[lib]);\n",
       "        s.onerror = () => reject(`Error loading script: ${paths[lib]}`);\n",
       "        document.getElementsByTagName(\"head\")[0].appendChild(s);\n",
       "      });\n",
       "    }\n",
       "\n",
       "    function showError(err) {\n",
       "      outputDiv.innerHTML = `<div class=\"error\" style=\"color:red;\">${err}</div>`;\n",
       "      throw err;\n",
       "    }\n",
       "\n",
       "    function displayChart(vegaEmbed) {\n",
       "      vegaEmbed(outputDiv, spec, embedOpt)\n",
       "        .catch(err => showError(`Javascript Error: ${err.message}<br>This usually means there's a typo in your chart specification. See the javascript console for the full traceback.`));\n",
       "    }\n",
       "\n",
       "    if(typeof define === \"function\" && define.amd) {\n",
       "      requirejs.config({paths});\n",
       "      require([\"vega-embed\"], displayChart, err => showError(`Error loading script: ${err.message}`));\n",
       "    } else if (typeof vegaEmbed === \"function\") {\n",
       "      displayChart(vegaEmbed);\n",
       "    } else {\n",
       "      loadScript(\"vega\")\n",
       "        .then(() => loadScript(\"vega-lite\"))\n",
       "        .then(() => loadScript(\"vega-embed\"))\n",
       "        .catch(showError)\n",
       "        .then(() => displayChart(vegaEmbed));\n",
       "    }\n",
       "  })({\"config\": {\"view\": {\"continuousWidth\": 400, \"continuousHeight\": 300}, \"background\": \"#f0f0f0\", \"title\": {\"anchor\": \"start\"}}, \"layer\": [{\"mark\": \"bar\", \"encoding\": {\"x\": {\"type\": \"quantitative\", \"axis\": null, \"field\": \"shot_first\"}, \"y\": {\"type\": \"nominal\", \"axis\": null, \"field\": \"index\", \"sort\": [\"Han\", \"Greedo\", \"I don't understand this question\"]}}}, {\"mark\": {\"type\": \"text\", \"align\": \"left\", \"baseline\": \"middle\", \"dx\": 3}, \"encoding\": {\"text\": {\"type\": \"quantitative\", \"field\": \"percent\"}, \"x\": {\"type\": \"quantitative\", \"field\": \"shot_first\"}, \"y\": {\"type\": \"nominal\", \"field\": \"index\", \"sort\": [\"Han\", \"Greedo\", \"I don't understand this question\"]}}}], \"data\": {\"name\": \"data-e4f8ba3348bffe17e888f0f73543746d\"}, \"title\": {\"text\": [\"Who Shot First\"], \"subtitle\": [\"According to 828 Respondents\"]}, \"$schema\": \"https://vega.github.io/schema/vega-lite/v4.8.1.json\", \"datasets\": {\"data-e4f8ba3348bffe17e888f0f73543746d\": [{\"index\": \"Han\", \"shot_first\": 0.392512077294686, \"percent\": 39.0}, {\"index\": \"I don't understand this question\", \"shot_first\": 0.3695652173913043, \"percent\": 37.0}, {\"index\": \"Greedo\", \"shot_first\": 0.23792270531400966, \"percent\": 24.0}]}}, {\"mode\": \"vega-lite\"});\n",
       "</script>"
      ],
      "text/plain": [
       "alt.LayerChart(...)"
      ]
     },
     "execution_count": 10,
     "metadata": {},
     "output_type": "execute_result"
    }
   ],
   "source": [
    "(part1 + part2).properties(\n",
    "    title = {\n",
    "        \"text\": [\"Who Shot First\"], \n",
    "        \"subtitle\": [\"According to 828 Respondents\"]\n",
    "    }\n",
    ").configure(\n",
    "    background = \"#f0f0f0\"\n",
    ").configure_title(\n",
    "    anchor = \"start\"\n",
    ")"
   ]
  },
  {
   "cell_type": "markdown",
   "metadata": {},
   "source": [
    "#### Second Recreated Visual\n",
    "\"What is the Best Star Wars Movie?\""
   ]
  },
  {
   "cell_type": "code",
   "execution_count": 11,
   "metadata": {},
   "outputs": [],
   "source": [
    "# sw_data.columns"
   ]
  },
  {
   "cell_type": "code",
   "execution_count": 12,
   "metadata": {},
   "outputs": [],
   "source": [
    "plot_2_data = (sw_data.query('seen_any == \"Yes\"')\n",
    "                      .dropna(\n",
    "                          subset = ['seen__i__the_phantom_menace',\n",
    "                                    'seen__ii__attack_of_the_clones',\n",
    "                                    'seen__iii__revenge_of_the_sith',\n",
    "                                    'seen__iv__a_new_hope',\n",
    "                                    'seen__v_the_empire_strikes_back',\n",
    "                                    'seen__vi_return_of_the_jedi'],\n",
    "                                    how = \"all\")\n",
    ")\n",
    "# plot_2_data"
   ]
  },
  {
   "cell_type": "code",
   "execution_count": 13,
   "metadata": {},
   "outputs": [],
   "source": [
    "d3 = (pd.get_dummies(plot_2_data))\n",
    "# d3"
   ]
  },
  {
   "cell_type": "code",
   "execution_count": 14,
   "metadata": {},
   "outputs": [],
   "source": [
    "# d3.columns"
   ]
  },
  {
   "cell_type": "code",
   "execution_count": 15,
   "metadata": {},
   "outputs": [],
   "source": [
    "d4 = d3.filter(d3.columns[10:16])\n",
    "# d4"
   ]
  },
  {
   "cell_type": "code",
   "execution_count": 16,
   "metadata": {},
   "outputs": [],
   "source": [
    "percent = round( ((d4.sum() / len(d4.index)) * 100))\n",
    "# percent"
   ]
  },
  {
   "cell_type": "code",
   "execution_count": 17,
   "metadata": {},
   "outputs": [],
   "source": [
    "d5 = (plot_2_data.filter(like = \"seen__\", axis = 1)\n",
    ")\n",
    "# d5"
   ]
  },
  {
   "cell_type": "code",
   "execution_count": 18,
   "metadata": {},
   "outputs": [],
   "source": [
    "d6 = (pd.melt(d5).groupby(\"value\").count().reset_index())\n",
    "# d6"
   ]
  },
  {
   "cell_type": "code",
   "execution_count": 19,
   "metadata": {},
   "outputs": [],
   "source": [
    "d7 = (d6.assign(percent = lambda x: x.variable/len(plot_2_data)))\n",
    "# d7"
   ]
  },
  {
   "cell_type": "code",
   "execution_count": 20,
   "metadata": {},
   "outputs": [],
   "source": [
    "# percent"
   ]
  },
  {
   "cell_type": "code",
   "execution_count": 21,
   "metadata": {},
   "outputs": [],
   "source": [
    "sw_renamed = percent.rename({\n",
    "    \"seen__i__the_phantom_menace_Star Wars: Episode I  The Phantom Menace\": \"E1\", \n",
    "    \"seen__ii__attack_of_the_clones_Star Wars: Episode II  Attack of the Clones\": \"E2\", \n",
    "    \"seen__iii__revenge_of_the_sith_Star Wars: Episode III  Revenge of the Sith\": \"E3\", \n",
    "    \"seen__iv__a_new_hope_Star Wars: Episode IV  A New Hope\": \"E4\", \n",
    "    \"seen__v_the_empire_strikes_back_Star Wars: Episode V The Empire Strikes Back\": \"E5\", \n",
    "    \"seen__vi_return_of_the_jedi_Star Wars: Episode VI Return of the Jedi\": \"E6\"\n",
    "})"
   ]
  },
  {
   "cell_type": "code",
   "execution_count": 22,
   "metadata": {},
   "outputs": [],
   "source": [
    "sw_df = sw_renamed.to_frame()"
   ]
  },
  {
   "cell_type": "code",
   "execution_count": 23,
   "metadata": {},
   "outputs": [],
   "source": [
    "final_sw_dat = sw_df.rename(columns = {0:\"percent\"})"
   ]
  },
  {
   "cell_type": "code",
   "execution_count": 24,
   "metadata": {},
   "outputs": [
    {
     "data": {
      "text/html": [
       "\n",
       "<div id=\"altair-viz-ed30afe3785e463d98f1aec72f046524\"></div>\n",
       "<script type=\"text/javascript\">\n",
       "  (function(spec, embedOpt){\n",
       "    let outputDiv = document.currentScript.previousElementSibling;\n",
       "    if (outputDiv.id !== \"altair-viz-ed30afe3785e463d98f1aec72f046524\") {\n",
       "      outputDiv = document.getElementById(\"altair-viz-ed30afe3785e463d98f1aec72f046524\");\n",
       "    }\n",
       "    const paths = {\n",
       "      \"vega\": \"https://cdn.jsdelivr.net/npm//vega@5?noext\",\n",
       "      \"vega-lib\": \"https://cdn.jsdelivr.net/npm//vega-lib?noext\",\n",
       "      \"vega-lite\": \"https://cdn.jsdelivr.net/npm//vega-lite@4.8.1?noext\",\n",
       "      \"vega-embed\": \"https://cdn.jsdelivr.net/npm//vega-embed@6?noext\",\n",
       "    };\n",
       "\n",
       "    function loadScript(lib) {\n",
       "      return new Promise(function(resolve, reject) {\n",
       "        var s = document.createElement('script');\n",
       "        s.src = paths[lib];\n",
       "        s.async = true;\n",
       "        s.onload = () => resolve(paths[lib]);\n",
       "        s.onerror = () => reject(`Error loading script: ${paths[lib]}`);\n",
       "        document.getElementsByTagName(\"head\")[0].appendChild(s);\n",
       "      });\n",
       "    }\n",
       "\n",
       "    function showError(err) {\n",
       "      outputDiv.innerHTML = `<div class=\"error\" style=\"color:red;\">${err}</div>`;\n",
       "      throw err;\n",
       "    }\n",
       "\n",
       "    function displayChart(vegaEmbed) {\n",
       "      vegaEmbed(outputDiv, spec, embedOpt)\n",
       "        .catch(err => showError(`Javascript Error: ${err.message}<br>This usually means there's a typo in your chart specification. See the javascript console for the full traceback.`));\n",
       "    }\n",
       "\n",
       "    if(typeof define === \"function\" && define.amd) {\n",
       "      requirejs.config({paths});\n",
       "      require([\"vega-embed\"], displayChart, err => showError(`Error loading script: ${err.message}`));\n",
       "    } else if (typeof vegaEmbed === \"function\") {\n",
       "      displayChart(vegaEmbed);\n",
       "    } else {\n",
       "      loadScript(\"vega\")\n",
       "        .then(() => loadScript(\"vega-lite\"))\n",
       "        .then(() => loadScript(\"vega-embed\"))\n",
       "        .catch(showError)\n",
       "        .then(() => displayChart(vegaEmbed));\n",
       "    }\n",
       "  })({\"config\": {\"view\": {\"continuousWidth\": 400, \"continuousHeight\": 300}}, \"data\": {\"name\": \"data-d30c291fe71b9b80c45eeffdc2f7b97e\"}, \"mark\": \"bar\", \"encoding\": {\"x\": {\"type\": \"quantitative\", \"axis\": null, \"field\": \"percent\"}, \"y\": {\"type\": \"nominal\", \"field\": \"index\", \"title\": \"\"}}, \"title\": {\"text\": \"Which Star Wars Movies Have You Seen?\", \"subtitle\": \"of the 835 respondents who have seen the film\"}, \"$schema\": \"https://vega.github.io/schema/vega-lite/v4.8.1.json\", \"datasets\": {\"data-d30c291fe71b9b80c45eeffdc2f7b97e\": [{\"index\": \"E1\", \"percent\": 81.0}, {\"index\": \"E2\", \"percent\": 68.0}, {\"index\": \"E3\", \"percent\": 66.0}, {\"index\": \"E4\", \"percent\": 73.0}, {\"index\": \"E5\", \"percent\": 91.0}, {\"index\": \"E6\", \"percent\": 88.0}]}}, {\"mode\": \"vega-lite\"});\n",
       "</script>"
      ],
      "text/plain": [
       "alt.Chart(...)"
      ]
     },
     "execution_count": 24,
     "metadata": {},
     "output_type": "execute_result"
    }
   ],
   "source": [
    "p1_answer = (alt.Chart(final_sw_dat.reset_index())\n",
    "                .mark_bar()\n",
    "                .encode(alt.X('percent:Q', axis = None), \n",
    "                        alt.Y('index', title = \"\"))\n",
    "                .properties(\n",
    "                    title = {\n",
    "                        \"text\": \"Which Star Wars Movies Have You Seen?\", \n",
    "                        \"subtitle\": \"of the 835 respondents who have seen the film\"\n",
    "                    }\n",
    "                ))\n",
    "\n",
    "p1_answer"
   ]
  },
  {
   "cell_type": "markdown",
   "metadata": {},
   "source": [
    "#### First recreated summary\n",
    "\"Of people who have seen a film, men were also more likely to consider themselves a fan of the franchise: 72 percent of men compared to 60 percent of women.\""
   ]
  },
  {
   "cell_type": "code",
   "execution_count": 25,
   "metadata": {},
   "outputs": [
    {
     "data": {
      "text/plain": [
       "Yes    0.599496\n",
       "No     0.400504\n",
       "Name: is_fan_star_wars, dtype: float64"
      ]
     },
     "execution_count": 25,
     "metadata": {},
     "output_type": "execute_result"
    }
   ],
   "source": [
    "summary_1 = (sw_data.query(\"gender == 'Female' & seen_any == 'Yes'\")\n",
    "        .is_fan_star_wars\n",
    "        .value_counts(normalize = True))\n",
    "\n",
    "summary_1\n"
   ]
  },
  {
   "cell_type": "code",
   "execution_count": 26,
   "metadata": {},
   "outputs": [],
   "source": [
    "# Second recreated summary\n",
    "# \"Seventy-nine percent of those respondents said they had watched at least one of the “Star Wars” films\"\n"
   ]
  },
  {
   "cell_type": "markdown",
   "metadata": {},
   "source": [
    "### Grand Question 3\n",
    "**Clean and format the data so that it can be used in a machine learning model. As you format the data, you should complete each item listed below. In your final report provide example(s) of the reformatted data with a short description of the changes made.**\n",
    "\n",
    "a. Filter the dataset to respondents that have seen at least one film.\n",
    "\n",
    "b. Create a new column that converts the age ranges to a single number. Drop the age range categorical column.\n",
    "\n",
    "c. Create a new column that converts the school groupings to a single number. Drop the school categorical \n",
    "column.\n",
    "\n",
    "d. Create a new column that converts the income ranges to a single number. Drop the income range categorical \n",
    "column.\n",
    "\n",
    "e. Create your target (also known as \"y\" or \"label\") column based on the new income range column.\n",
    "\n",
    "f. One-hot encode all remaining categorical columns."
   ]
  },
  {
   "cell_type": "code",
   "execution_count": 27,
   "metadata": {},
   "outputs": [],
   "source": [
    "# A) Filter the dataset to respondents that have seen at least one film.\n",
    "\n",
    "q3 = sw_data.query('seen_any == \"Yes\"')\n",
    "# q3.head()"
   ]
  },
  {
   "cell_type": "code",
   "execution_count": 28,
   "metadata": {},
   "outputs": [],
   "source": [
    "# B) Create a new column that converts the age ranges to a single number. Drop the age range categorical column.\n",
    "\n",
    "ml_age = (q3.age\n",
    "   .str.replace(\"> \", \"\")\n",
    "   .str.split(\"-\", expand = True)\n",
    "   .rename(columns = {0: \"age_min\", 1: \"age_max\"}) # this makes altair happy because they don't like integers as column names\n",
    "   .age_min\n",
    "   .astype(\"float\")\n",
    ")\n",
    "# ml_age"
   ]
  },
  {
   "cell_type": "code",
   "execution_count": 29,
   "metadata": {},
   "outputs": [],
   "source": [
    "# C) Create a new column that converts the school groupings to a single number. Drop the school categorical column.\n",
    "\n",
    "ml_school = (q3.education\n",
    "        .str.replace('Less than high school degree', '9')\n",
    "        .str.replace('High school degree', '12')\n",
    "        .str.replace('Some college or Associate degree', '14')\n",
    "        .str.replace('Bachelor degree', '16')\n",
    "        .str.replace('Graduate degree', '20')\n",
    "        .astype('float')\n",
    "        )\n",
    "# ml_school"
   ]
  },
  {
   "cell_type": "code",
   "execution_count": 30,
   "metadata": {},
   "outputs": [
    {
     "name": "stderr",
     "output_type": "stream",
     "text": [
      "C:\\Users\\brigh\\AppData\\Local\\Temp/ipykernel_31408/1800806865.py:3: FutureWarning: The default value of regex will change from True to False in a future version.\n",
      "  ml_income = (q3.household_income\n"
     ]
    }
   ],
   "source": [
    "# D) Create a new column that converts the income ranges to a single number. Drop the income range categorical column.\n",
    "\n",
    "ml_income = (q3.household_income\n",
    "   .str.replace(\"\\$|,|\\+\", \"\")\n",
    "   .str.split(\" - \", expand=True)\n",
    "   .rename(columns = {0: \"income_min\", 1: \"income_max\"}) # this makes altair happy because they don't like integers as column names\n",
    "   .income_min\n",
    "   .astype(\"float\")\n",
    ")\n",
    "# ml_income"
   ]
  },
  {
   "cell_type": "code",
   "execution_count": 31,
   "metadata": {},
   "outputs": [],
   "source": [
    "# E) One-hot encode all remaining categorical columns.\n",
    "\n",
    "# sw_data.columns\n",
    "# q3.columns\n",
    "\n",
    "ml_dummies = pd.get_dummies(q3.filter(\n",
    "    [ 'seen_any', 'is_fan_star_wars',\n",
    "       'seen__i__the_phantom_menace', 'seen__ii__attack_of_the_clones',\n",
    "       'seen__iii__revenge_of_the_sith', 'seen__iv__a_new_hope',\n",
    "       'seen__v_the_empire_strikes_back', 'seen__vi_return_of_the_jedi',\n",
    "       'favorable_characterhan_solo',\n",
    "       'favorable_characterluke_skywalker',\n",
    "       'favorable_characterprincess_leia_organa',\n",
    "       'favorable_characteranakin_skywalker',\n",
    "       'favorable_characterobi_wan_kenobi',\n",
    "       'favorable_characteremperor_palpatine',\n",
    "       'favorable_characterdarth_vader', 'favorable_characterlando_calrissian',\n",
    "       'favorable_characterboba_fett', 'favorable_characterc-3p0',\n",
    "       'favorable_characterr2_d2', 'favorable_characterjar_jar_binks',\n",
    "       'favorable_characterpadme_amidala', 'favorable_characteryoda',\n",
    "       'shot_first', 'familiar_expanded_universe',\n",
    "       'do_you_consider_yourself_to_be_a_fan_of_the_expanded_universe?æ',\n",
    "       'do_you_consider_yourself_to_be_a_fan_of_the_star_trek_franchise?',\n",
    "       'gender', 'location_(census_region)']\n",
    "       )) # copy and paste all columns from columns above. See picture on phone. This is where I need help wrangling things from the lab\n",
    "# print(ml_dummies)"
   ]
  },
  {
   "cell_type": "code",
   "execution_count": 32,
   "metadata": {},
   "outputs": [],
   "source": [
    "starwars_ml = pd.concat([ml_dummies, \n",
    "                         q3.filter(['film_rank_i__the_phantom_menace', 'film_rank_ii__attack_of_the_clones',\n",
    "                                    'film_rank_iii__revenge_of_the_sith', 'film_rank_iv__a_new_hope',\n",
    "                                    'film_rank_v_the_empire_strikes_back',\n",
    "                                    'film_rank_vi_return_of_the_jedi']),\n",
    "                         ml_age, \n",
    "                         ml_school, \n",
    "                         ml_income], axis=1).dropna()\n",
    "\n",
    "# starwars_ml.head()"
   ]
  },
  {
   "cell_type": "code",
   "execution_count": 33,
   "metadata": {},
   "outputs": [],
   "source": [
    "# F) Create your target (also known as \"y\" or \"label\") column based on the new income range column.\n",
    "\n",
    "target = starwars_ml.income_min >= 50000"
   ]
  },
  {
   "cell_type": "markdown",
   "metadata": {},
   "source": [
    "### Grand Question 4\n",
    "**Build a machine learning model that predicts whether a person makes more than $50k.**"
   ]
  },
  {
   "cell_type": "code",
   "execution_count": 34,
   "metadata": {},
   "outputs": [],
   "source": [
    "from sklearn.ensemble import RandomForestClassifier\n",
    "from sklearn.model_selection import train_test_split\n",
    "from sklearn import metrics"
   ]
  },
  {
   "cell_type": "code",
   "execution_count": 35,
   "metadata": {},
   "outputs": [
    {
     "data": {
      "text/plain": [
       "pandas.core.frame.DataFrame"
      ]
     },
     "execution_count": 35,
     "metadata": {},
     "output_type": "execute_result"
    }
   ],
   "source": [
    "type(starwars_ml)"
   ]
  },
  {
   "cell_type": "code",
   "execution_count": 36,
   "metadata": {},
   "outputs": [
    {
     "name": "stdout",
     "output_type": "stream",
     "text": [
      "<class 'pandas.core.frame.DataFrame'>\n",
      "Int64Index: 672 entries, 2 to 1185\n",
      "Columns: 122 entries, seen_any_Yes to income_min\n",
      "dtypes: float64(9), uint8(113)\n",
      "memory usage: 126.7 KB\n"
     ]
    }
   ],
   "source": [
    "starwars_ml.info()"
   ]
  },
  {
   "cell_type": "code",
   "execution_count": 37,
   "metadata": {},
   "outputs": [
    {
     "name": "stdout",
     "output_type": "stream",
     "text": [
      "The model is useful 64.0% of the time\n"
     ]
    }
   ],
   "source": [
    "# \"X\" or \"independent\"\n",
    "features = starwars_ml.drop(columns = ['income_min'])\n",
    "# features\n",
    "\n",
    "# split the data!\n",
    "x_train, x_test, y_train, y_test = train_test_split(features, target, test_size = .34, random_state = 76)\n",
    "\n",
    "x_train = pd.get_dummies(x_train).fillna(0)\n",
    "\n",
    "# create a classification model\n",
    "classifier_RF = RandomForestClassifier(max_depth=12)\n",
    "\n",
    "# train the model\n",
    "classifier_RF.fit(x_train, y_train)\n",
    "\n",
    "# use your model to make predictions!\n",
    "y_predicted = classifier_RF.predict(x_test)\n",
    "\n",
    "# test how accurate those predictions are\n",
    "print(f\"The model is useful {metrics.accuracy_score(y_test, y_predicted).round(2)*100}% of the time\") "
   ]
  }
 ],
 "metadata": {
  "interpreter": {
   "hash": "3269ba1cb23deedadf404aebb4fbd50b01bdb34b2ceb15f81103dfd008217e9a"
  },
  "kernelspec": {
   "display_name": "Python 3.9.7 64-bit ('sklearn-venv': venv)",
   "language": "python",
   "name": "python3"
  },
  "language_info": {
   "codemirror_mode": {
    "name": "ipython",
    "version": 3
   },
   "file_extension": ".py",
   "mimetype": "text/x-python",
   "name": "python",
   "nbconvert_exporter": "python",
   "pygments_lexer": "ipython3",
   "version": "3.9.7"
  },
  "orig_nbformat": 4
 },
 "nbformat": 4,
 "nbformat_minor": 2
}
